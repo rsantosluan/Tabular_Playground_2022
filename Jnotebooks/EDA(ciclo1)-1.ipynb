{
 "cells": [
  {
   "cell_type": "markdown",
   "metadata": {},
   "source": [
    "# 1. Imports"
   ]
  },
  {
   "cell_type": "code",
   "execution_count": 14,
   "metadata": {},
   "outputs": [],
   "source": [
    "### Elementares\n",
    "import pandas as pd\n",
    "\n",
    "### Plot gráfico\n",
    "import seaborn    as sns\n",
    "import matplotlib as mpl\n",
    "\n",
    "### Sklearn\n",
    "from   sklearn.model_selection import train_test_split"
   ]
  },
  {
   "cell_type": "markdown",
   "metadata": {},
   "source": [
    "# 2. Help Function"
   ]
  },
  {
   "cell_type": "markdown",
   "metadata": {},
   "source": [
    "# 3. Load Data"
   ]
  },
  {
   "cell_type": "code",
   "execution_count": 2,
   "metadata": {},
   "outputs": [],
   "source": [
    "data_raw = pd.read_csv( '../data/train.csv' )"
   ]
  },
  {
   "cell_type": "markdown",
   "metadata": {},
   "source": [
    "## 3.1 Pre-analysis"
   ]
  },
  {
   "cell_type": "code",
   "execution_count": 3,
   "metadata": {},
   "outputs": [
    {
     "name": "stdout",
     "output_type": "stream",
     "text": [
      "---Amostra de dados\n"
     ]
    },
    {
     "data": {
      "text/html": [
       "<div>\n",
       "<style scoped>\n",
       "    .dataframe tbody tr th:only-of-type {\n",
       "        vertical-align: middle;\n",
       "    }\n",
       "\n",
       "    .dataframe tbody tr th {\n",
       "        vertical-align: top;\n",
       "    }\n",
       "\n",
       "    .dataframe thead th {\n",
       "        text-align: right;\n",
       "    }\n",
       "</style>\n",
       "<table border=\"1\" class=\"dataframe\">\n",
       "  <thead>\n",
       "    <tr style=\"text-align: right;\">\n",
       "      <th></th>\n",
       "      <th>row_id</th>\n",
       "      <th>date</th>\n",
       "      <th>country</th>\n",
       "      <th>store</th>\n",
       "      <th>product</th>\n",
       "      <th>num_sold</th>\n",
       "    </tr>\n",
       "  </thead>\n",
       "  <tbody>\n",
       "    <tr>\n",
       "      <th>0</th>\n",
       "      <td>0</td>\n",
       "      <td>2017-01-01</td>\n",
       "      <td>Belgium</td>\n",
       "      <td>KaggleMart</td>\n",
       "      <td>Kaggle Advanced Techniques</td>\n",
       "      <td>663</td>\n",
       "    </tr>\n",
       "    <tr>\n",
       "      <th>1</th>\n",
       "      <td>1</td>\n",
       "      <td>2017-01-01</td>\n",
       "      <td>Belgium</td>\n",
       "      <td>KaggleMart</td>\n",
       "      <td>Kaggle Getting Started</td>\n",
       "      <td>615</td>\n",
       "    </tr>\n",
       "  </tbody>\n",
       "</table>\n",
       "</div>"
      ],
      "text/plain": [
       "   row_id        date  country       store                     product  \\\n",
       "0       0  2017-01-01  Belgium  KaggleMart  Kaggle Advanced Techniques   \n",
       "1       1  2017-01-01  Belgium  KaggleMart      Kaggle Getting Started   \n",
       "\n",
       "   num_sold  \n",
       "0       663  \n",
       "1       615  "
      ]
     },
     "metadata": {},
     "output_type": "display_data"
    },
    {
     "name": "stdout",
     "output_type": "stream",
     "text": [
      "---Verificação do tipo dos dados\n"
     ]
    },
    {
     "data": {
      "text/plain": [
       "row_id       int64\n",
       "date        object\n",
       "country     object\n",
       "store       object\n",
       "product     object\n",
       "num_sold     int64\n",
       "dtype: object"
      ]
     },
     "metadata": {},
     "output_type": "display_data"
    },
    {
     "name": "stdout",
     "output_type": "stream",
     "text": [
      "---Check de valores nulos\n"
     ]
    },
    {
     "data": {
      "text/plain": [
       "row_id      0\n",
       "date        0\n",
       "country     0\n",
       "store       0\n",
       "product     0\n",
       "num_sold    0\n",
       "dtype: int64"
      ]
     },
     "metadata": {},
     "output_type": "display_data"
    },
    {
     "name": "stdout",
     "output_type": "stream",
     "text": [
      "Dataframe contendo 70128 linhas e 6 colunas\n"
     ]
    }
   ],
   "source": [
    "### Amostra de dados contidos no DF\n",
    "print( '---Amostra de dados' )\n",
    "display( data_raw.head(2) )\n",
    "### Verificação de tipo dos dados\n",
    "print( '---Verificação do tipo dos dados' )\n",
    "display( data_raw.dtypes )\n",
    "###Check de valores nulos\n",
    "print( '---Check de valores nulos' )\n",
    "display( data_raw.isna().sum() )\n",
    "### Verificação de dimensões do DF\n",
    "print( f'Dataframe contendo {data_raw.shape[0]} linhas e {data_raw.shape[1]} colunas' )"
   ]
  },
  {
   "cell_type": "markdown",
   "metadata": {},
   "source": [
    "## 3.2 Initial data conversion"
   ]
  },
  {
   "cell_type": "code",
   "execution_count": 4,
   "metadata": {},
   "outputs": [],
   "source": [
    "data_raw['date'] = pd.to_datetime(data_raw.date)"
   ]
  },
  {
   "cell_type": "markdown",
   "metadata": {},
   "source": [
    "## 3.3 Data split"
   ]
  },
  {
   "cell_type": "code",
   "execution_count": 28,
   "metadata": {},
   "outputs": [],
   "source": [
    "'''\n",
    "Os dados serão separados em treino e validação antes do início da análise exploratória de dados para \n",
    "evitar o viés de análise.\n",
    "'''\n",
    "### Separação dos dados em variáveis preditoras e variável alvo\n",
    "x = data_raw.drop( columns = 'num_sold' ) \n",
    "y = data_raw.num_sold\n",
    "### Separação dos dados em treino e validação (validação com 15% do total de dados)\n",
    "x_train, x_validation, y_train, y_validation = train_test_split( \n",
    "    x, y, \n",
    "    test_size = 0.15, shuffle = True\n",
    " )"
   ]
  }
 ],
 "metadata": {
  "kernelspec": {
   "display_name": "Python 3.10.4 ('pg2': venv)",
   "language": "python",
   "name": "python3"
  },
  "language_info": {
   "codemirror_mode": {
    "name": "ipython",
    "version": 3
   },
   "file_extension": ".py",
   "mimetype": "text/x-python",
   "name": "python",
   "nbconvert_exporter": "python",
   "pygments_lexer": "ipython3",
   "version": "3.10.4"
  },
  "orig_nbformat": 4,
  "vscode": {
   "interpreter": {
    "hash": "c4eb708f0c28d1739d7b56dc4f0a34f3f9ca827ce0ffbb19a3da3238c41c3d16"
   }
  }
 },
 "nbformat": 4,
 "nbformat_minor": 2
}
